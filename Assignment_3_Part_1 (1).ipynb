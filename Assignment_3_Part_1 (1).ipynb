{
 "cells": [
  {
   "cell_type": "markdown",
   "metadata": {},
   "source": [
    "\n",
    "## SF Salaries Exercise \n",
    "\n",
    "\n",
    "For this exercise, you will be using the [SF Salaries Dataset](https://www.kaggle.com/kaggle/sf-salaries) from Kaggle!. Please download the \"Salaries.csv\" file from kaggle and complete the below exercises. Please submit the completed jupyter notebook file to D2L. \n",
    "\n",
    "\n",
    "| Exercise | Point |\n",
    "| --- | --- |\n",
    "| 1 | 3 |\n",
    "| 2 | 2 |\n",
    "| 3 | 5 |\n",
    "| 4 | 5 |\n",
    "| 5 | 5 |\n",
    "| 6 | 5 |\n",
    "| 7 | 5 |\n",
    "| 8 | 5 |\n",
    "| 9 | 5 |\n",
    "| 11 | 5 |\n",
    "| 12 | 5 |\n",
    "| **Total** | **50** |"
   ]
  },
  {
   "cell_type": "markdown",
   "metadata": {},
   "source": [
    "**Exercise 1**"
   ]
  },
  {
   "cell_type": "markdown",
   "metadata": {},
   "source": [
    "**Import pandas as pd.**"
   ]
  },
  {
   "cell_type": "code",
   "execution_count": 2,
   "metadata": {},
   "outputs": [],
   "source": [
    "import pandas as pd\n"
   ]
  },
  {
   "cell_type": "markdown",
   "metadata": {},
   "source": [
    "**Read Salaries.csv as a dataframe called sal.**"
   ]
  },
  {
   "cell_type": "code",
   "execution_count": 3,
   "metadata": {},
   "outputs": [],
   "source": [
    "sal = pd.read_csv('Salaries.csv')"
   ]
  },
  {
   "cell_type": "markdown",
   "metadata": {},
   "source": [
    "**Check the head of the DataFrame.**"
   ]
  },
  {
   "cell_type": "code",
   "execution_count": 4,
   "metadata": {},
   "outputs": [
    {
     "name": "stdout",
     "output_type": "stream",
     "text": [
      "   Id       EmployeeName                                        JobTitle  \\\n",
      "0   1     NATHANIEL FORD  GENERAL MANAGER-METROPOLITAN TRANSIT AUTHORITY   \n",
      "1   2       GARY JIMENEZ                 CAPTAIN III (POLICE DEPARTMENT)   \n",
      "2   3     ALBERT PARDINI                 CAPTAIN III (POLICE DEPARTMENT)   \n",
      "3   4  CHRISTOPHER CHONG            WIRE ROPE CABLE MAINTENANCE MECHANIC   \n",
      "4   5    PATRICK GARDNER    DEPUTY CHIEF OF DEPARTMENT,(FIRE DEPARTMENT)   \n",
      "\n",
      "     BasePay  OvertimePay   OtherPay  Benefits   TotalPay  TotalPayBenefits  \\\n",
      "0  167411.18         0.00  400184.25       NaN  567595.43         567595.43   \n",
      "1  155966.02    245131.88  137811.38       NaN  538909.28         538909.28   \n",
      "2  212739.13    106088.18   16452.60       NaN  335279.91         335279.91   \n",
      "3   77916.00     56120.71  198306.90       NaN  332343.61         332343.61   \n",
      "4  134401.60      9737.00  182234.59       NaN  326373.19         326373.19   \n",
      "\n",
      "   Year  Notes         Agency  Status  \n",
      "0  2011    NaN  San Francisco     NaN  \n",
      "1  2011    NaN  San Francisco     NaN  \n",
      "2  2011    NaN  San Francisco     NaN  \n",
      "3  2011    NaN  San Francisco     NaN  \n",
      "4  2011    NaN  San Francisco     NaN  \n"
     ]
    }
   ],
   "source": [
    "# let's assume the variable name of head of DataFrame is head_of_df\n",
    "head_of_df = sal.head()\n",
    "print(head_of_df)"
   ]
  },
  {
   "cell_type": "markdown",
   "metadata": {},
   "source": [
    "**Exercise 2 - Use the .info() method to find out how many entries there are.**"
   ]
  },
  {
   "cell_type": "code",
   "execution_count": 5,
   "metadata": {},
   "outputs": [
    {
     "name": "stdout",
     "output_type": "stream",
     "text": [
      "<class 'pandas.core.frame.DataFrame'>\n",
      "RangeIndex: 148654 entries, 0 to 148653\n",
      "Data columns (total 13 columns):\n",
      " #   Column            Non-Null Count   Dtype  \n",
      "---  ------            --------------   -----  \n",
      " 0   Id                148654 non-null  int64  \n",
      " 1   EmployeeName      148654 non-null  object \n",
      " 2   JobTitle          148654 non-null  object \n",
      " 3   BasePay           148045 non-null  float64\n",
      " 4   OvertimePay       148650 non-null  float64\n",
      " 5   OtherPay          148650 non-null  float64\n",
      " 6   Benefits          112491 non-null  float64\n",
      " 7   TotalPay          148654 non-null  float64\n",
      " 8   TotalPayBenefits  148654 non-null  float64\n",
      " 9   Year              148654 non-null  int64  \n",
      " 10  Notes             0 non-null       float64\n",
      " 11  Agency            148654 non-null  object \n",
      " 12  Status            0 non-null       float64\n",
      "dtypes: float64(8), int64(2), object(3)\n",
      "memory usage: 14.7+ MB\n",
      "None\n"
     ]
    }
   ],
   "source": [
    "# print the result of the info() to know the datatype and number of entries of each column. \n",
    "print(sal.info())"
   ]
  },
  {
   "cell_type": "markdown",
   "metadata": {},
   "source": [
    "**Exercise 3 - What is the average BasePay ?**"
   ]
  },
  {
   "cell_type": "code",
   "execution_count": 6,
   "metadata": {},
   "outputs": [
    {
     "name": "stdout",
     "output_type": "stream",
     "text": [
      "Average BasePay is  66325.44884050643\n"
     ]
    }
   ],
   "source": [
    "#first of all, extract the basepay. \n",
    "#let's assume a variable named basepay\n",
    "basepay = sal['BasePay']\n",
    "\n",
    "#basepay might have some NaN values. So for finding basepay we'll have to remove NaN values. \n",
    "\n",
    "basepay = basepay.dropna()\n",
    "\n",
    "#once basepay is fetched, we have to take the sum of basepay and then divided by total number of entries. \n",
    "\n",
    "average_of_basepay = sum(basepay) / len(basepay)\n",
    "print(\"Average BasePay is \", average_of_basepay)"
   ]
  },
  {
   "cell_type": "markdown",
   "metadata": {},
   "source": [
    "**Exercise 4 - What is the highest amount of OvertimePay in the dataset ?**"
   ]
  },
  {
   "cell_type": "code",
   "execution_count": 7,
   "metadata": {},
   "outputs": [
    {
     "name": "stdout",
     "output_type": "stream",
     "text": [
      "Highest amount of OvertimePay is  245131.88\n"
     ]
    }
   ],
   "source": [
    "#to fetch overtime pay we have to fetch the overtime column first. \n",
    "#let's name the variable name overtimepay \n",
    "overtimepay = sal['OvertimePay']\n",
    "\n",
    "#finding out the maximum overtime pay using max() function, the maxium overtimepay is the highest overtime pay. \n",
    "#max() will not include any NaN so the maximum will be returned. Thus no needed to remove NaNs here. \n",
    "\n",
    "highest_overtimepay = max(overtimepay)\n",
    "\n",
    "print(\"Highest amount of OvertimePay is \",highest_overtimepay)"
   ]
  },
  {
   "cell_type": "markdown",
   "metadata": {},
   "source": [
    "**Exercise 5 - What is the job title of  JOSEPH DRISCOLL ? Note: Use all caps, otherwise you may get an answer that doesn't match up (there is also a lowercase Joseph Driscoll).**"
   ]
  },
  {
   "cell_type": "code",
   "execution_count": 8,
   "metadata": {},
   "outputs": [
    {
     "name": "stdout",
     "output_type": "stream",
     "text": [
      "Job title of  JOSEPH DRISCOLL  is  CAPTAIN, FIRE SUPPRESSION\n"
     ]
    }
   ],
   "source": [
    "name_to_find = \"JOSEPH DRISCOLL\"\n",
    "\n",
    "#we will make a sub dataset from the dataset from which we need the information. \n",
    "\n",
    "sub_dataset = sal[['EmployeeName','JobTitle']]\n",
    "\n",
    "#filter the rows from sub_dataset which has EmployeeName of name_to_find\n",
    "\n",
    "filtered_result = sub_dataset[sub_dataset['EmployeeName']==name_to_find]\n",
    "\n",
    "print(\"Job title of \", name_to_find ,\" is \", filtered_result['JobTitle'][filtered_result['JobTitle'].index[0]])"
   ]
  },
  {
   "cell_type": "markdown",
   "metadata": {},
   "source": [
    "**Exercise 6 - How much does JOSEPH DRISCOLL make (including benefits)?**"
   ]
  },
  {
   "cell_type": "code",
   "execution_count": 9,
   "metadata": {},
   "outputs": [
    {
     "name": "stdout",
     "output_type": "stream",
     "text": [
      "Total Pay including benefits 270324.91\n"
     ]
    }
   ],
   "source": [
    "name_to_find = \"JOSEPH DRISCOLL\"\n",
    "\n",
    "#from the sal dataset let's filter the row where we have information. \n",
    "filtered_result = sal[sal['EmployeeName']==name_to_find]\n",
    "\n",
    "print(\"Total Pay including benefits\",filtered_result['TotalPayBenefits'][filtered_result['TotalPayBenefits'].index[0]])"
   ]
  },
  {
   "cell_type": "markdown",
   "metadata": {},
   "source": [
    "**Exercise 7 - What is the name of highest paid person (including benefits)?**"
   ]
  },
  {
   "cell_type": "code",
   "execution_count": 10,
   "metadata": {},
   "outputs": [
    {
     "name": "stdout",
     "output_type": "stream",
     "text": [
      "Name of the highest paid person is NATHANIEL FORD\n"
     ]
    }
   ],
   "source": [
    "data_of_highest_paid_person = sal[sal['TotalPayBenefits'] == max(sal['TotalPayBenefits'])]\n",
    "print(\"Name of the highest paid person is\",data_of_highest_paid_person['EmployeeName'][data_of_highest_paid_person['TotalPayBenefits'].index[0]])"
   ]
  },
  {
   "cell_type": "markdown",
   "metadata": {},
   "source": [
    "**Exercise 8 - What is the name of lowest paid person (including benefits)?**"
   ]
  },
  {
   "cell_type": "code",
   "execution_count": 11,
   "metadata": {},
   "outputs": [
    {
     "name": "stdout",
     "output_type": "stream",
     "text": [
      "Name of the highest paid person is Joe Lopez\n"
     ]
    }
   ],
   "source": [
    "data_of_lowest_paid_person = sal[sal['TotalPayBenefits'] == min(sal['TotalPayBenefits'])]\n",
    "print(\"Name of the highest paid person is\",data_of_lowest_paid_person['EmployeeName'][data_of_lowest_paid_person['TotalPayBenefits'].index[0]])"
   ]
  },
  {
   "cell_type": "markdown",
   "metadata": {},
   "source": [
    "**Exercise 9 - What was the average (mean) BasePay of all employees per year? (2011-2014)?**"
   ]
  },
  {
   "cell_type": "code",
   "execution_count": 13,
   "metadata": {},
   "outputs": [
    {
     "name": "stdout",
     "output_type": "stream",
     "text": [
      "Year  2011  -  63595.956516774524\n",
      "Year  2012  -  65436.40685742255\n",
      "Year  2013  -  69630.0302164812\n",
      "Year  2014  -  66564.42192449933\n"
     ]
    }
   ],
   "source": [
    "list_of_years = [2011, 2012, 2013, 2014]\n",
    "annual_average = {}\n",
    "for each_year in list_of_years:\n",
    "    subset = sal[sal['Year']==each_year]\n",
    "    mean_of_each_year = subset['BasePay'].mean()\n",
    "    annual_average[each_year] = mean_of_each_year\n",
    "\n",
    "\n",
    "for (key,value) in annual_average.items():\n",
    "    print(\"Year \", key, \" - \", value)"
   ]
  },
  {
   "cell_type": "markdown",
   "metadata": {},
   "source": [
    "**Exercise 10 - How many unique job titles are there?**"
   ]
  },
  {
   "cell_type": "code",
   "execution_count": 14,
   "metadata": {},
   "outputs": [
    {
     "name": "stdout",
     "output_type": "stream",
     "text": [
      "Total number of unique job titles are 2159\n"
     ]
    }
   ],
   "source": [
    "total_job_titles = sal['JobTitle']\n",
    "unique_job_titles = total_job_titles.unique()\n",
    "print(\"Total number of unique job titles are\",len(unique_job_titles))"
   ]
  },
  {
   "cell_type": "markdown",
   "metadata": {},
   "source": [
    "**Exercise 11 - What are the top 5 most common jobs?**"
   ]
  },
  {
   "cell_type": "code",
   "execution_count": 15,
   "metadata": {},
   "outputs": [
    {
     "name": "stdout",
     "output_type": "stream",
     "text": [
      "Top 5 Most Common Jobs are:\n",
      "Transit Operator                7036\n",
      "Special Nurse                   4389\n",
      "Registered Nurse                3736\n",
      "Public Svc Aide-Public Works    2518\n",
      "Police Officer 3                2421\n",
      "Name: JobTitle, dtype: int64\n"
     ]
    }
   ],
   "source": [
    "job_counts = sal['JobTitle'].value_counts().head()\n",
    "job_counts\n",
    "# by default value_counts return the number of jobs by descending order.\n",
    "print(\"Top 5 Most Common Jobs are:\")\n",
    "print(job_counts)"
   ]
  },
  {
   "cell_type": "markdown",
   "metadata": {},
   "source": [
    "**Exercise 12 - How many Job Titles were represented by only one person in 2013? (e.g. Job Titles with only one occurence in 2013?)**"
   ]
  },
  {
   "cell_type": "code",
   "execution_count": 16,
   "metadata": {},
   "outputs": [
    {
     "name": "stdout",
     "output_type": "stream",
     "text": [
      "Job Titles that were represented by only one person in 2013 are:  202\n"
     ]
    }
   ],
   "source": [
    "import numpy as np\n",
    "year = 2013\n",
    "jobtitle_and_year = sal[['JobTitle','Year']]\n",
    "filtered_results = jobtitle_and_year[jobtitle_and_year['Year']==year]\n",
    "unique, counts = np.unique(filtered_results.value_counts().values, return_counts=True)\n",
    "d = dict(zip(unique, counts))\n",
    "print(\"Job Titles that were represented by only one person in 2013 are: \" ,d[1])"
   ]
  },
  {
   "cell_type": "markdown",
   "metadata": {},
   "source": [
    "**Optional: Is there a correlation between length of the Job Title string and Salary?**"
   ]
  },
  {
   "cell_type": "code",
   "execution_count": 22,
   "metadata": {},
   "outputs": [],
   "source": [
    "#NO"
   ]
  }
 ],
 "metadata": {
  "anaconda-cloud": {},
  "kernelspec": {
   "display_name": "Python 3",
   "language": "python",
   "name": "python3"
  },
  "language_info": {
   "codemirror_mode": {
    "name": "ipython",
    "version": 3
   },
   "file_extension": ".py",
   "mimetype": "text/x-python",
   "name": "python",
   "nbconvert_exporter": "python",
   "pygments_lexer": "ipython3",
   "version": "3.8.8"
  }
 },
 "nbformat": 4,
 "nbformat_minor": 4
}
